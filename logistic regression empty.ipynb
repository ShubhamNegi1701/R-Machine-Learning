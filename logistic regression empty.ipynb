{
 "cells": [
  {
   "cell_type": "code",
   "execution_count": 1,
   "metadata": {},
   "outputs": [],
   "source": [
    "import numpy as np \n",
    "import pandas as pd\n",
    "from sklearn.tree import DecisionTreeClassifier"
   ]
  },
  {
   "cell_type": "code",
   "execution_count": 2,
   "metadata": {},
   "outputs": [],
   "source": [
    "data = pd.read_csv(r\"C:\\\\Users\\\\User\\\\Desktop\\\\Credit_Risk_Train_data.csv\")"
   ]
  },
  {
   "cell_type": "code",
   "execution_count": 3,
   "metadata": {},
   "outputs": [
    {
     "name": "stdout",
     "output_type": "stream",
     "text": [
      "    Loan_ID Gender Married Dependents     Education Self_Employed  \\\n",
      "0  LP001002   Male      No          0      Graduate            No   \n",
      "1  LP001003   Male     Yes          1      Graduate            No   \n",
      "2  LP001005   Male     Yes          0      Graduate           Yes   \n",
      "3  LP001006   Male     Yes          0  Not Graduate            No   \n",
      "4  LP001008   Male      No          0      Graduate            No   \n",
      "\n",
      "   ApplicantIncome  CoapplicantIncome  LoanAmount  Loan_Amount_Term  \\\n",
      "0             5849                0.0         NaN             360.0   \n",
      "1             4583             1508.0       128.0             360.0   \n",
      "2             3000                0.0        66.0             360.0   \n",
      "3             2583             2358.0       120.0             360.0   \n",
      "4             6000                0.0       141.0             360.0   \n",
      "\n",
      "   Credit_History Property_Area Loan_Status  \n",
      "0             1.0         Urban           Y  \n",
      "1             1.0         Rural           N  \n",
      "2             1.0         Urban           Y  \n",
      "3             1.0         Urban           Y  \n",
      "4             1.0         Urban           Y  \n"
     ]
    }
   ],
   "source": [
    "print(data.head())"
   ]
  },
  {
   "cell_type": "code",
   "execution_count": 4,
   "metadata": {},
   "outputs": [
    {
     "data": {
      "text/plain": [
       "array([['Male', 'No', '0', 'Graduate', 'No', 5849, 0.0, nan, 360.0, 1.0,\n",
       "        'Urban'],\n",
       "       ['Male', 'Yes', '1', 'Graduate', 'No', 4583, 1508.0, 128.0, 360.0,\n",
       "        1.0, 'Rural'],\n",
       "       ['Male', 'Yes', '0', 'Graduate', 'Yes', 3000, 0.0, 66.0, 360.0,\n",
       "        1.0, 'Urban'],\n",
       "       ['Male', 'Yes', '0', 'Not Graduate', 'No', 2583, 2358.0, 120.0,\n",
       "        360.0, 1.0, 'Urban'],\n",
       "       ['Male', 'No', '0', 'Graduate', 'No', 6000, 0.0, 141.0, 360.0,\n",
       "        1.0, 'Urban'],\n",
       "       ['Male', 'Yes', '2', 'Graduate', 'Yes', 5417, 4196.0, 267.0,\n",
       "        360.0, 1.0, 'Urban'],\n",
       "       ['Male', 'Yes', '0', 'Not Graduate', 'No', 2333, 1516.0, 95.0,\n",
       "        360.0, 1.0, 'Urban'],\n",
       "       ['Male', 'Yes', '3+', 'Graduate', 'No', 3036, 2504.0, 158.0,\n",
       "        360.0, 0.0, 'Semiurban'],\n",
       "       ['Male', 'Yes', '2', 'Graduate', 'No', 4006, 1526.0, 168.0, 360.0,\n",
       "        1.0, 'Urban'],\n",
       "       ['Male', 'Yes', '1', 'Graduate', 'No', 12841, 10968.0, 349.0,\n",
       "        360.0, 1.0, 'Semiurban'],\n",
       "       ['Male', 'Yes', '2', 'Graduate', 'No', 3200, 700.0, 70.0, 360.0,\n",
       "        1.0, 'Urban']], dtype=object)"
      ]
     },
     "execution_count": 4,
     "metadata": {},
     "output_type": "execute_result"
    }
   ],
   "source": [
    "X = data[['Gender', 'Married', 'Dependents', 'Education', 'Self_Employed', 'ApplicantIncome', 'CoapplicantIncome', 'LoanAmount','Loan_Amount_Term', 'Credit_History', 'Property_Area']].values\n",
    "X[0:11]"
   ]
  },
  {
   "cell_type": "code",
   "execution_count": 5,
   "metadata": {},
   "outputs": [],
   "source": [
    "from sklearn import linear_model, preprocessing\n",
    "le = preprocessing.LabelEncoder()\n",
    "Gender = le.fit_transform(list(data[\"Gender\"]))\n",
    "Married = le.fit_transform(list(data[\"Married\"]))\n",
    "Dependents = le.fit_transform(list(data[\"Dependents\"]))\n",
    "Education = le.fit_transform(list(data[\"Education\"]))\n",
    "Employment = le.fit_transform(list(data[\"Self_Employed\"]))\n",
    "Application = le.fit_transform(list(data[\"ApplicantIncome\"]))\n",
    "Cincome = le.fit_transform(list(data[\"CoapplicantIncome\"]))\n",
    "LoanAmount = le.fit_transform(list(data[\"LoanAmount\"]))\n",
    "Loanterm = le.fit_transform(list(data[\"Loan_Amount_Term\"]))\n",
    "Credit = le.fit_transform(list(data[\"Credit_History\"]))\n",
    "Property = le.fit_transform(list(data[\"Property_Area\"]))\n",
    "Loan = le.fit_transform(list(data[\"Loan_Status\"]))"
   ]
  },
  {
   "cell_type": "code",
   "execution_count": 6,
   "metadata": {},
   "outputs": [],
   "source": [
    "X = list(zip(Gender,Married,Dependents,Education,Employment,Application,Cincome,LoanAmount,Loanterm,Credit,Property))\n",
    "y = list(Loan)\n",
    "from sklearn.model_selection import train_test_split\n",
    "X_trainset, X_testset, y_trainset, y_testset = train_test_split(X, y, test_size=0.2, random_state=4)"
   ]
  },
  {
   "cell_type": "code",
   "execution_count": 7,
   "metadata": {},
   "outputs": [
    {
     "data": {
      "text/plain": [
       "LogisticRegression(C=0.01, class_weight=None, dual=False, fit_intercept=True,\n",
       "                   intercept_scaling=1, l1_ratio=None, max_iter=100,\n",
       "                   multi_class='warn', n_jobs=None, penalty='l2',\n",
       "                   random_state=None, solver='liblinear', tol=0.0001, verbose=0,\n",
       "                   warm_start=False)"
      ]
     },
     "execution_count": 7,
     "metadata": {},
     "output_type": "execute_result"
    }
   ],
   "source": [
    "from sklearn.linear_model import LogisticRegression\n",
    "from sklearn.metrics import confusion_matrix\n",
    "LR = LogisticRegression(C=0.01, solver='liblinear').fit(X_trainset,y_trainset)\n",
    "LR"
   ]
  },
  {
   "cell_type": "code",
   "execution_count": 8,
   "metadata": {},
   "outputs": [
    {
     "data": {
      "text/plain": [
       "array([1, 1, 1, 1, 1, 1, 1, 1, 1, 1, 1, 1, 1, 1, 1, 1, 1, 1, 1, 1, 1, 1,\n",
       "       1, 1, 1, 1, 1, 1, 1, 1, 1, 1, 1, 1, 1, 1, 1, 1, 1, 1, 1, 1, 1, 1,\n",
       "       1, 1, 1, 1, 1, 1, 1, 1, 1, 1, 1, 1, 0, 1, 1, 1, 1, 1, 1, 1, 1, 1,\n",
       "       1, 1, 1, 1, 1, 1, 1, 1, 1, 1, 1, 1, 1, 1, 1, 1, 1, 1, 1, 1, 1, 1,\n",
       "       1, 1, 1, 1, 1, 1, 1, 1, 1, 1, 1, 1, 1, 1, 1, 1, 1, 1, 1, 1, 1, 1,\n",
       "       1, 1, 1, 1, 1, 1, 1, 1, 1, 1, 1, 1, 1], dtype=int64)"
      ]
     },
     "execution_count": 8,
     "metadata": {},
     "output_type": "execute_result"
    }
   ],
   "source": [
    "yhat = LR.predict(X_testset)\n",
    "yhat"
   ]
  },
  {
   "cell_type": "code",
   "execution_count": 9,
   "metadata": {},
   "outputs": [
    {
     "data": {
      "text/plain": [
       "array([[0.42040171, 0.57959829],\n",
       "       [0.32111678, 0.67888322],\n",
       "       [0.34343862, 0.65656138],\n",
       "       [0.37702957, 0.62297043],\n",
       "       [0.29711897, 0.70288103],\n",
       "       [0.36261306, 0.63738694],\n",
       "       [0.13844747, 0.86155253],\n",
       "       [0.32200086, 0.67799914],\n",
       "       [0.34173662, 0.65826338],\n",
       "       [0.43232968, 0.56767032],\n",
       "       [0.34249915, 0.65750085],\n",
       "       [0.10615818, 0.89384182],\n",
       "       [0.34805684, 0.65194316],\n",
       "       [0.38568446, 0.61431554],\n",
       "       [0.31261728, 0.68738272],\n",
       "       [0.30556318, 0.69443682],\n",
       "       [0.33206035, 0.66793965],\n",
       "       [0.31684959, 0.68315041],\n",
       "       [0.39127459, 0.60872541],\n",
       "       [0.34515877, 0.65484123],\n",
       "       [0.33996694, 0.66003306],\n",
       "       [0.32500677, 0.67499323],\n",
       "       [0.27447711, 0.72552289],\n",
       "       [0.31066775, 0.68933225],\n",
       "       [0.326596  , 0.673404  ],\n",
       "       [0.33368081, 0.66631919],\n",
       "       [0.40827477, 0.59172523],\n",
       "       [0.36170206, 0.63829794],\n",
       "       [0.36877847, 0.63122153],\n",
       "       [0.29417285, 0.70582715],\n",
       "       [0.29261811, 0.70738189],\n",
       "       [0.22772216, 0.77227784],\n",
       "       [0.35049042, 0.64950958],\n",
       "       [0.32143072, 0.67856928],\n",
       "       [0.32141782, 0.67858218],\n",
       "       [0.20148556, 0.79851444],\n",
       "       [0.37245742, 0.62754258],\n",
       "       [0.32742938, 0.67257062],\n",
       "       [0.32970877, 0.67029123],\n",
       "       [0.32758987, 0.67241013],\n",
       "       [0.32609417, 0.67390583],\n",
       "       [0.37658963, 0.62341037],\n",
       "       [0.31592313, 0.68407687],\n",
       "       [0.29197914, 0.70802086],\n",
       "       [0.42232784, 0.57767216],\n",
       "       [0.33298564, 0.66701436],\n",
       "       [0.29380422, 0.70619578],\n",
       "       [0.3395924 , 0.6604076 ],\n",
       "       [0.33343157, 0.66656843],\n",
       "       [0.32403331, 0.67596669],\n",
       "       [0.26498573, 0.73501427],\n",
       "       [0.32692541, 0.67307459],\n",
       "       [0.39245892, 0.60754108],\n",
       "       [0.29733309, 0.70266691],\n",
       "       [0.35746168, 0.64253832],\n",
       "       [0.23836964, 0.76163036],\n",
       "       [0.56143497, 0.43856503],\n",
       "       [0.2930173 , 0.7069827 ],\n",
       "       [0.29629043, 0.70370957],\n",
       "       [0.37203229, 0.62796771],\n",
       "       [0.33191383, 0.66808617],\n",
       "       [0.29680878, 0.70319122],\n",
       "       [0.22415857, 0.77584143],\n",
       "       [0.30786839, 0.69213161],\n",
       "       [0.37516362, 0.62483638],\n",
       "       [0.36639795, 0.63360205],\n",
       "       [0.37343933, 0.62656067],\n",
       "       [0.43070533, 0.56929467],\n",
       "       [0.33904566, 0.66095434],\n",
       "       [0.30132159, 0.69867841],\n",
       "       [0.2701244 , 0.7298756 ],\n",
       "       [0.2525214 , 0.7474786 ],\n",
       "       [0.26461927, 0.73538073],\n",
       "       [0.36400909, 0.63599091],\n",
       "       [0.32685571, 0.67314429],\n",
       "       [0.29426267, 0.70573733],\n",
       "       [0.2032273 , 0.7967727 ],\n",
       "       [0.35448505, 0.64551495],\n",
       "       [0.31337931, 0.68662069],\n",
       "       [0.30822611, 0.69177389],\n",
       "       [0.31620397, 0.68379603],\n",
       "       [0.33262329, 0.66737671],\n",
       "       [0.37604803, 0.62395197],\n",
       "       [0.32732041, 0.67267959],\n",
       "       [0.22572632, 0.77427368],\n",
       "       [0.49086956, 0.50913044],\n",
       "       [0.39088395, 0.60911605],\n",
       "       [0.30309233, 0.69690767],\n",
       "       [0.37659622, 0.62340378],\n",
       "       [0.37341429, 0.62658571],\n",
       "       [0.33538704, 0.66461296],\n",
       "       [0.40558557, 0.59441443],\n",
       "       [0.30797824, 0.69202176],\n",
       "       [0.3183321 , 0.6816679 ],\n",
       "       [0.32432269, 0.67567731],\n",
       "       [0.29460402, 0.70539598],\n",
       "       [0.33160618, 0.66839382],\n",
       "       [0.35235426, 0.64764574],\n",
       "       [0.41090477, 0.58909523],\n",
       "       [0.37052001, 0.62947999],\n",
       "       [0.35113005, 0.64886995],\n",
       "       [0.30778074, 0.69221926],\n",
       "       [0.29700863, 0.70299137],\n",
       "       [0.33500893, 0.66499107],\n",
       "       [0.28534121, 0.71465879],\n",
       "       [0.42383077, 0.57616923],\n",
       "       [0.38913988, 0.61086012],\n",
       "       [0.3429609 , 0.6570391 ],\n",
       "       [0.25091424, 0.74908576],\n",
       "       [0.31851453, 0.68148547],\n",
       "       [0.29259552, 0.70740448],\n",
       "       [0.35085779, 0.64914221],\n",
       "       [0.32163389, 0.67836611],\n",
       "       [0.3458059 , 0.6541941 ],\n",
       "       [0.31611001, 0.68388999],\n",
       "       [0.37536373, 0.62463627],\n",
       "       [0.38203163, 0.61796837],\n",
       "       [0.39415844, 0.60584156],\n",
       "       [0.32642287, 0.67357713],\n",
       "       [0.35327054, 0.64672946],\n",
       "       [0.08485032, 0.91514968],\n",
       "       [0.37368682, 0.62631318],\n",
       "       [0.41323687, 0.58676313]])"
      ]
     },
     "execution_count": 9,
     "metadata": {},
     "output_type": "execute_result"
    }
   ],
   "source": [
    "yhat_prob = LR.predict_proba(X_testset)\n",
    "yhat_prob"
   ]
  },
  {
   "cell_type": "code",
   "execution_count": 10,
   "metadata": {},
   "outputs": [
    {
     "name": "stderr",
     "output_type": "stream",
     "text": [
      "C:\\Users\\User\\Anaconda3\\lib\\site-packages\\sklearn\\metrics\\classification.py:635: DeprecationWarning: jaccard_similarity_score has been deprecated and replaced with jaccard_score. It will be removed in version 0.23. This implementation has surprising behavior for binary and multiclass classification tasks.\n",
      "  'and multiclass classification tasks.', DeprecationWarning)\n"
     ]
    },
    {
     "data": {
      "text/plain": [
       "0.6829268292682927"
      ]
     },
     "execution_count": 10,
     "metadata": {},
     "output_type": "execute_result"
    }
   ],
   "source": [
    "from sklearn.metrics import jaccard_similarity_score\n",
    "jaccard_similarity_score(y_testset, yhat)"
   ]
  },
  {
   "cell_type": "code",
   "execution_count": 11,
   "metadata": {},
   "outputs": [
    {
     "name": "stdout",
     "output_type": "stream",
     "text": [
      "DecisionTrees's Accuracy:  0.6829268292682927\n"
     ]
    }
   ],
   "source": [
    "from sklearn import metrics\n",
    "import matplotlib.pyplot as plt\n",
    "print(\"DecisionTrees's Accuracy: \", metrics.accuracy_score(y_testset, yhat))"
   ]
  },
  {
   "cell_type": "code",
   "execution_count": null,
   "metadata": {},
   "outputs": [],
   "source": []
  },
  {
   "cell_type": "code",
   "execution_count": 15,
   "metadata": {},
   "outputs": [],
   "source": [
    "from sklearn.externals.six import StringIO\n",
    "import pydotplus\n",
    "import matplotlib.image as mpimg\n",
    "from sklearn import tree\n",
    "%matplotlib inline "
   ]
  },
  {
   "cell_type": "code",
   "execution_count": 17,
   "metadata": {},
   "outputs": [
    {
     "data": {
      "image/png": "[encoded data removed]",
      "text/plain": [
       "<Figure size 432x288 with 1 Axes>"
      ]
     },
     "metadata": {
      "needs_background": "light"
     },
     "output_type": "display_data"
    }
   ],
   "source": [
    "import sklearn.metrics as metrics\n",
    "# calculate the fpr and tpr for all thresholds of the classification\n",
    "probs = LR.predict(X_testset)\n",
    "preds = yhat\n",
    "fpr, tpr, threshold = metrics.roc_curve(y_testset, yhat)\n",
    "roc_auc = metrics.auc(fpr, tpr)\n",
    "\n",
    "# method I: plt\n",
    "import matplotlib.pyplot as plt\n",
    "plt.title('Receiver Operating Characteristic')\n",
    "plt.plot(fpr, tpr, 'b', label = 'AUC = %0.2f' % roc_auc)\n",
    "plt.legend(loc = 'lower right')\n",
    "plt.plot([0, 1], [0, 1],'r--')\n",
    "plt.xlim([0, 1])\n",
    "plt.ylim([0, 1])\n",
    "plt.ylabel('True Positive Rate')\n",
    "plt.xlabel('False Positive Rate')\n",
    "plt.show()\n"
   ]
  },
  {
   "cell_type": "code",
   "execution_count": 19,
   "metadata": {},
   "outputs": [
    {
     "name": "stdout",
     "output_type": "stream",
     "text": [
      "[[83  0]\n",
      " [39  1]]\n"
     ]
    }
   ],
   "source": [
    "from sklearn.metrics import classification_report, confusion_matrix\n",
    "import itertools\n",
    "def plot_confusion_matrix(cm, classes,\n",
    "                          normalize=False,\n",
    "                          title='Confusion matrix',\n",
    "                          cmap=plt.cm.Blues):\n",
    "    \"\"\"\n",
    "    This function prints and plots the confusion matrix.\n",
    "    Normalization can be applied by setting `normalize=True`.\n",
    "    \"\"\"\n",
    "    if normalize:\n",
    "        cm = cm.astype('float') / cm.sum(axis=1)[:, np.newaxis]\n",
    "        print(\"Normalized confusion matrix\")\n",
    "    else:\n",
    "        print('Confusion matrix, without normalization')\n",
    "\n",
    "    print(cm)\n",
    "\n",
    "    plt.imshow(cm, interpolation='nearest', cmap=cmap)\n",
    "    plt.title(title)\n",
    "    plt.colorbar()\n",
    "    tick_marks = np.arange(len(classes))\n",
    "    plt.xticks(tick_marks, classes, rotation=45)\n",
    "    plt.yticks(tick_marks, classes)\n",
    "\n",
    "    fmt = '.2f' if normalize else 'd'\n",
    "    thresh = cm.max() / 2.\n",
    "    for i, j in itertools.product(range(cm.shape[0]), range(cm.shape[1])):\n",
    "        plt.text(j, i, format(cm[i, j], fmt),\n",
    "                 horizontalalignment=\"center\",\n",
    "                 color=\"white\" if cm[i, j] > thresh else \"black\")\n",
    "\n",
    "    plt.tight_layout()\n",
    "    plt.ylabel('True label')\n",
    "    plt.xlabel('Predicted label')\n",
    "print(confusion_matrix(y_testset, yhat, labels=[1,0]))"
   ]
  },
  {
   "cell_type": "code",
   "execution_count": 20,
   "metadata": {},
   "outputs": [
    {
     "name": "stdout",
     "output_type": "stream",
     "text": [
      "Confusion matrix, without normalization\n",
      "[[83  0]\n",
      " [39  1]]\n"
     ]
    },
    {
     "data": {
      "image/png": "[encoded data removed]",
      "text/plain": [
       "<Figure size 432x288 with 2 Axes>"
      ]
     },
     "metadata": {
      "needs_background": "light"
     },
     "output_type": "display_data"
    }
   ],
   "source": [
    "# Compute confusion matrix\n",
    "cnf_matrix = confusion_matrix(y_testset, yhat, labels=[1,0])\n",
    "np.set_printoptions(precision=2)\n",
    "\n",
    "\n",
    "# Plot non-normalized confusion matrix\n",
    "plt.figure()\n",
    "plot_confusion_matrix(cnf_matrix, classes=['churn=1','churn=0'],normalize= False,  title='Confusion matrix')"
   ]
  },
  {
   "cell_type": "code",
   "execution_count": 21,
   "metadata": {},
   "outputs": [
    {
     "name": "stdout",
     "output_type": "stream",
     "text": [
      "              precision    recall  f1-score   support\n",
      "\n",
      "           0       1.00      0.03      0.05        40\n",
      "           1       0.68      1.00      0.81        83\n",
      "\n",
      "    accuracy                           0.68       123\n",
      "   macro avg       0.84      0.51      0.43       123\n",
      "weighted avg       0.78      0.68      0.56       123\n",
      "\n"
     ]
    }
   ],
   "source": [
    "print (classification_report(y_testset, yhat))"
   ]
  },
  {
   "cell_type": "code",
   "execution_count": null,
   "metadata": {},
   "outputs": [],
   "source": []
  }
 ],
 "metadata": {
  "kernelspec": {
   "display_name": "Python 3",
   "language": "python",
   "name": "python3"
  },
  "language_info": {
   "codemirror_mode": {
    "name": "ipython",
    "version": 3
   },
   "file_extension": ".py",
   "mimetype": "text/x-python",
   "name": "python",
   "nbconvert_exporter": "python",
   "pygments_lexer": "ipython3",
   "version": "3.7.4"
  }
 },
 "nbformat": 4,
 "nbformat_minor": 2
}
