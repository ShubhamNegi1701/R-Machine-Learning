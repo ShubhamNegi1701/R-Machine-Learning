{
 "cells": [
  {
   "cell_type": "code",
   "execution_count": 1,
   "metadata": {},
   "outputs": [],
   "source": [
    "\n",
    "import os\n",
    "\n",
    "import matplotlib\n",
    "import sklearn\n",
    "from sklearn import linear_model, preprocessing\n",
    "import numpy as np\n",
    "import pandas as pd\n",
    "import seaborn as sns\n",
    "get_ipython().run_line_magic('matplotlib', 'inline')\n",
    "from collections import Counter\n",
    "import warnings\n",
    "warnings.filterwarnings(\"ignore\")"
   ]
  },
  {
   "cell_type": "code",
   "execution_count": 2,
   "metadata": {},
   "outputs": [
    {
     "data": {
      "text/plain": [
       "'C:\\\\Users\\\\User'"
      ]
     },
     "execution_count": 2,
     "metadata": {},
     "output_type": "execute_result"
    }
   ],
   "source": [
    "pwd"
   ]
  },
  {
   "cell_type": "code",
   "execution_count": 5,
   "metadata": {},
   "outputs": [],
   "source": [
    "data= pd.read_csv(r\"C:\\Users\\\\User\\\\\\Desktop\\\\Credit_Risk_Train_data.csv\")"
   ]
  },
  {
   "cell_type": "code",
   "execution_count": 6,
   "metadata": {},
   "outputs": [
    {
     "name": "stdout",
     "output_type": "stream",
     "text": [
      "<bound method NDFrame.head of       Loan_ID  Gender Married Dependents     Education Self_Employed  \\\n",
      "0    LP001002    Male      No          0      Graduate            No   \n",
      "1    LP001003    Male     Yes          1      Graduate            No   \n",
      "2    LP001005    Male     Yes          0      Graduate           Yes   \n",
      "3    LP001006    Male     Yes          0  Not Graduate            No   \n",
      "4    LP001008    Male      No          0      Graduate            No   \n",
      "..        ...     ...     ...        ...           ...           ...   \n",
      "609  LP002978  Female      No          0      Graduate            No   \n",
      "610  LP002979    Male     Yes         3+      Graduate            No   \n",
      "611  LP002983    Male     Yes          1      Graduate            No   \n",
      "612  LP002984    Male     Yes          2      Graduate            No   \n",
      "613  LP002990  Female      No          0      Graduate           Yes   \n",
      "\n",
      "     ApplicantIncome  CoapplicantIncome  LoanAmount  Loan_Amount_Term  \\\n",
      "0               5849                0.0         NaN             360.0   \n",
      "1               4583             1508.0       128.0             360.0   \n",
      "2               3000                0.0        66.0             360.0   \n",
      "3               2583             2358.0       120.0             360.0   \n",
      "4               6000                0.0       141.0             360.0   \n",
      "..               ...                ...         ...               ...   \n",
      "609             2900                0.0        71.0             360.0   \n",
      "610             4106                0.0        40.0             180.0   \n",
      "611             8072              240.0       253.0             360.0   \n",
      "612             7583                0.0       187.0             360.0   \n",
      "613             4583                0.0       133.0             360.0   \n",
      "\n",
      "     Credit_History Property_Area Loan_Status  \n",
      "0               1.0         Urban           Y  \n",
      "1               1.0         Rural           N  \n",
      "2               1.0         Urban           Y  \n",
      "3               1.0         Urban           Y  \n",
      "4               1.0         Urban           Y  \n",
      "..              ...           ...         ...  \n",
      "609             1.0         Rural           Y  \n",
      "610             1.0         Rural           Y  \n",
      "611             1.0         Urban           Y  \n",
      "612             1.0         Urban           Y  \n",
      "613             0.0     Semiurban           N  \n",
      "\n",
      "[614 rows x 13 columns]>\n"
     ]
    }
   ],
   "source": [
    "print(data.head)"
   ]
  },
  {
   "cell_type": "code",
   "execution_count": 7,
   "metadata": {},
   "outputs": [],
   "source": [
    "from sklearn import linear_model, preprocessing"
   ]
  },
  {
   "cell_type": "code",
   "execution_count": 44,
   "metadata": {},
   "outputs": [
    {
     "name": "stdout",
     "output_type": "stream",
     "text": [
      "    Loan_ID Gender Married Dependents     Education Self_Employed  \\\n",
      "0  LP001002   Male      No          0      Graduate            No   \n",
      "1  LP001003   Male     Yes          1      Graduate            No   \n",
      "2  LP001005   Male     Yes          0      Graduate           Yes   \n",
      "3  LP001006   Male     Yes          0  Not Graduate            No   \n",
      "4  LP001008   Male      No          0      Graduate            No   \n",
      "\n",
      "   ApplicantIncome  CoapplicantIncome  LoanAmount  Loan_Amount_Term  \\\n",
      "0             5849                0.0         NaN             360.0   \n",
      "1             4583             1508.0       128.0             360.0   \n",
      "2             3000                0.0        66.0             360.0   \n",
      "3             2583             2358.0       120.0             360.0   \n",
      "4             6000                0.0       141.0             360.0   \n",
      "\n",
      "   Credit_History Property_Area Loan_Status  \n",
      "0             1.0         Urban           Y  \n",
      "1             1.0         Rural           N  \n",
      "2             1.0         Urban           Y  \n",
      "3             1.0         Urban           Y  \n",
      "4             1.0         Urban           Y  \n"
     ]
    }
   ],
   "source": [
    "print(data.head())"
   ]
  },
  {
   "cell_type": "code",
   "execution_count": 8,
   "metadata": {},
   "outputs": [],
   "source": [
    "le = preprocessing.LabelEncoder()"
   ]
  },
  {
   "cell_type": "code",
   "execution_count": 9,
   "metadata": {},
   "outputs": [],
   "source": [
    "Gender = le.fit_transform(list(data[\"Gender\"]))\n",
    "Married = le.fit_transform(list(data[\"Married\"]))\n",
    "Dependents = le.fit_transform(list(data[\"Dependents\"]))\n",
    "Education = le.fit_transform(list(data[\"Education\"]))\n",
    "Employment = le.fit_transform(list(data[\"Self_Employed\"]))\n",
    "Application = le.fit_transform(list(data[\"ApplicantIncome\"]))\n",
    "Cincome = le.fit_transform(list(data[\"CoapplicantIncome\"]))\n",
    "LoanAmount = le.fit_transform(list(data[\"LoanAmount\"]))\n",
    "Loanterm = le.fit_transform(list(data[\"Loan_Amount_Term\"]))\n",
    "Credit = le.fit_transform(list(data[\"Credit_History\"]))\n",
    "Property = le.fit_transform(list(data[\"Property_Area\"]))\n",
    "Loan = le.fit_transform(list(data[\"Loan_Status\"]))"
   ]
  },
  {
   "cell_type": "code",
   "execution_count": 10,
   "metadata": {},
   "outputs": [],
   "source": [
    "X = list(zip(Gender,Married,Dependents,Education,Employment,Application,Cincome,LoanAmount,Loanterm,Credit,Property))\n",
    "y = list(Loan)\n",
    "\n",
    "x_train, x_test, y_train, y_test = sklearn.model_selection.train_test_split(X, y, test_size = 0.2)"
   ]
  },
  {
   "cell_type": "code",
   "execution_count": 11,
   "metadata": {},
   "outputs": [
    {
     "name": "stdout",
     "output_type": "stream",
     "text": [
      "0.07170545690228858\n"
     ]
    }
   ],
   "source": [
    "linear = linear_model.LinearRegression()\n",
    "linear.fit(x_train, y_train)\n",
    "acc = linear.score(x_test, y_test)\n",
    "print(acc)"
   ]
  },
  {
   "cell_type": "code",
   "execution_count": 28,
   "metadata": {},
   "outputs": [
    {
     "name": "stdout",
     "output_type": "stream",
     "text": [
      "0.6913856275078716 (1, 0, 0, 0, 0, 37, 112, 32, 8, 1, 2) 1\n",
      "0.7776251865226529 (1, 1, 3, 0, 2, 301, 37, 63, 8, 1, 2) 1\n",
      "0.5931360320384289 (1, 0, 0, 1, 0, 220, 41, 53, 8, 1, 0) 0\n",
      "0.6708158584842041 (0, 0, 1, 0, 0, 212, 0, 65, 8, 8, 1) 1\n",
      "0.7035731892122821 (1, 0, 0, 0, 2, 340, 0, 71, 8, 1, 1) 1\n",
      "0.7490177831280165 (1, 1, 0, 0, 0, 174, 113, 61, 8, 1, 0) 1\n",
      "0.6897574667460649 (1, 1, 1, 0, 0, 474, 0, 130, 5, 1, 0) 1\n",
      "0.6692197932843551 (1, 1, 0, 1, 0, 282, 0, 68, 5, 1, 1) 1\n",
      "0.7052163140526118 (0, 1, 0, 0, 0, 80, 154, 90, 8, 1, 1) 1\n",
      "0.6632767158036181 (1, 1, 2, 0, 0, 406, 87, 152, 7, 1, 1) 1\n",
      "0.5937483814058055 (1, 0, 0, 1, 0, 258, 77, 62, 8, 1, 0) 1\n",
      "0.6401783808284149 (1, 0, 0, 0, 1, 411, 0, 123, 5, 1, 1) 1\n",
      "0.691201558363115 (1, 1, 2, 0, 0, 329, 266, 143, 8, 1, 1) 1\n",
      "0.6492976720640415 (1, 0, 0, 0, 0, 283, 0, 73, 8, 1, 0) 1\n",
      "0.7409586177963257 (1, 1, 1, 0, 0, 147, 24, 53, 8, 1, 2) 1\n",
      "0.6711416272467667 (1, 1, 0, 1, 0, 139, 77, 53, 9, 0, 2) 0\n",
      "0.6091570276505789 (1, 0, 0, 1, 1, 90, 141, 57, 8, 1, 0) 1\n",
      "0.590909909545113 (1, 0, 2, 0, 0, 334, 0, 117, 8, 0, 1) 1\n",
      "0.5905629115305263 (1, 0, 0, 0, 0, 379, 242, 175, 8, 1, 1) 1\n",
      "0.6947861176020607 (1, 1, 3, 0, 0, 200, 37, 81, 8, 0, 1) 0\n",
      "0.9800209136076263 (1, 1, 0, 0, 0, 311, 191, 64, 0, 37, 2) 1\n",
      "0.6113752563082167 (1, 0, 0, 0, 0, 315, 110, 130, 8, 1, 1) 0\n",
      "0.6915034060937761 (1, 0, 0, 0, 0, 221, 0, 36, 8, 1, 2) 0\n",
      "0.8525784102919375 (1, 1, 1, 0, 0, 387, 243, 184, 8, 40, 2) 1\n",
      "0.578417200810571 (1, 0, 0, 0, 0, 371, 227, 179, 8, 1, 0) 0\n",
      "0.7459423993075945 (1, 1, 0, 0, 0, 127, 1, 42, 8, 1, 0) 1\n",
      "0.740714034992439 (1, 1, 0, 0, 0, 242, 0, 63, 8, 1, 1) 1\n",
      "0.6998928433794899 (0, 1, 0, 0, 0, 228, 57, 97, 8, 1, 1) 1\n",
      "0.7175807547408563 (1, 1, 2, 0, 0, 378, 0, 86, 8, 1, 1) 1\n",
      "0.6249618653702278 (1, 0, 0, 0, 0, 342, 0, 77, 18, 0, 0) 0\n",
      "0.6483326782025508 (1, 1, 3, 1, 0, 324, 0, 48, 15, 0, 1) 0\n",
      "0.7321122763433261 (1, 0, 0, 0, 0, 29, 260, 27, 8, 5, 0) 0\n",
      "0.6454580570544276 (1, 1, 1, 1, 0, 57, 175, 81, 8, 1, 2) 1\n",
      "0.8109096752326344 (1, 1, 0, 0, 0, 444, 0, 33, 5, 1, 2) 1\n",
      "0.6104135911335127 (1, 1, 0, 1, 0, 214, 239, 104, 23, 0, 0) 0\n",
      "0.6898767716242432 (1, 1, 0, 0, 0, 445, 0, 133, 5, 1, 0) 1\n",
      "0.6645923539869191 (1, 1, 0, 1, 0, 50, 164, 68, 8, 1, 2) 1\n",
      "0.7314412120483815 (1, 1, 0, 0, 0, 238, 90, 84, 8, 1, 1) 1\n",
      "0.6168621326095395 (1, 1, 1, 1, 0, 349, 53, 113, 8, 0, 1) 1\n",
      "0.6475088994126986 (0, 0, 0, 0, 0, 3, 229, 66, 9, 1, 0) 1\n",
      "0.5936315403018297 (0, 0, 1, 1, 2, 346, 0, 85, 8, 1, 1) 1\n",
      "0.7181305880161541 (1, 1, 1, 0, 0, 121, 101, 76, 9, 1, 1) 1\n",
      "0.6905447647345464 (1, 1, 2, 1, 0, 180, 97, 37, 8, 1, 2) 1\n",
      "0.63610876944626 (0, 0, 1, 0, 0, 244, 0, 65, 8, 1, 0) 1\n",
      "0.6862236425612832 (1, 1, 1, 0, 0, 115, 111, 99, 8, 0, 0) 0\n",
      "0.5955829857114008 (1, 0, 0, 0, 0, 436, 0, 145, 8, 1, 2) 1\n",
      "0.637304360841632 (1, 1, 2, 1, 0, 284, 53, 82, 8, 1, 0) 0\n",
      "0.6232306377774535 (1, 1, 0, 0, 0, 474, 0, 193, 8, 1, 1) 1\n",
      "0.6035230324483127 (0, 0, 1, 0, 0, 205, 0, 107, 1, 1, 1) 0\n",
      "0.6808366602795914 (1, 1, 0, 0, 0, 377, 126, 146, 8, 1, 0) 1\n",
      "0.5814719660915385 (1, 1, 0, 1, 0, 14, 235, 140, 8, 0, 1) 0\n",
      "0.6762675219395168 (0, 0, 0, 0, 0, 85, 0, 18, 8, 1, 0) 1\n",
      "0.6251737712074169 (0, 0, 4, 0, 0, 245, 0, 69, 5, 1, 2) 1\n",
      "0.6934158441751516 (1, 1, 0, 0, 0, 0, 94, 88, 8, 1, 0) 0\n",
      "0.6365298210593123 (1, 1, 2, 0, 0, 440, 0, 164, 8, 0, 2) 0\n",
      "0.6871592122876307 (0, 0, 0, 0, 2, 111, 57, 63, 8, 1, 2) 1\n",
      "0.7447287735384446 (1, 1, 0, 0, 0, 207, 78, 67, 8, 1, 1) 1\n",
      "0.8027408379729705 (1, 1, 0, 0, 0, 496, 272, 194, 8, 27, 2) 1\n",
      "0.7150476196922463 (0, 0, 0, 0, 0, 279, 0, 9, 8, 1, 1) 1\n",
      "0.7602023594774636 (1, 1, 3, 0, 0, 439, 258, 83, 8, 1, 0) 1\n",
      "0.6521946320611646 (0, 0, 0, 0, 2, 198, 0, 88, 8, 1, 0) 0\n",
      "0.7119974910484461 (1, 1, 2, 0, 0, 310, 0, 87, 8, 1, 2) 0\n",
      "0.6655832952469651 (1, 1, 2, 0, 0, 465, 31, 150, 8, 1, 2) 1\n",
      "0.6021665143955589 (0, 0, 2, 0, 0, 199, 0, 91, 8, 1, 2) 0\n",
      "0.681985391163883 (1, 1, 4, 0, 0, 362, 181, 126, 8, 1, 0) 1\n",
      "0.7271350208356763 (1, 1, 1, 0, 0, 306, 60, 81, 8, 1, 0) 0\n",
      "0.6471890569994799 (1, 1, 2, 1, 0, 153, 142, 79, 8, 1, 2) 1\n",
      "0.6518743596822578 (1, 1, 2, 0, 0, 208, 248, 158, 8, 1, 0) 1\n",
      "0.7217615825820269 (1, 1, 0, 0, 0, 375, 0, 91, 8, 1, 0) 1\n",
      "0.6978424808069341 (0, 1, 0, 0, 0, 166, 153, 106, 8, 1, 1) 1\n",
      "0.7208702755462806 (1, 1, 0, 0, 0, 65, 167, 89, 8, 1, 2) 1\n",
      "0.6576096551603369 (1, 0, 4, 0, 0, 117, 0, 29, 8, 1, 2) 1\n",
      "0.6699714803239739 (1, 1, 1, 0, 1, 438, 257, 189, 8, 0, 0) 0\n",
      "0.7272425283637558 (1, 1, 1, 0, 0, 399, 276, 126, 8, 0, 2) 0\n",
      "0.7517349758460459 (0, 0, 0, 0, 1, 480, 0, 17, 8, 1, 1) 1\n",
      "0.6993544017410863 (1, 1, 2, 1, 0, 122, 0, 10, 5, 0, 2) 0\n",
      "0.8363289776337843 (0, 0, 0, 0, 1, 84, 0, 46, 8, 34, 2) 1\n",
      "0.7448160708336757 (1, 2, 4, 0, 0, 247, 13, 112, 8, 1, 2) 1\n",
      "0.8195753636096573 (1, 1, 1, 0, 0, 354, 25, 3, 8, 1, 1) 1\n",
      "0.6195027322073603 (1, 0, 0, 0, 0, 395, 248, 144, 8, 0, 0) 0\n",
      "0.8160561744118636 (1, 1, 1, 1, 0, 271, 264, 91, 8, 31, 0) 0\n",
      "0.639585887892469 (1, 1, 2, 1, 0, 188, 192, 97, 8, 1, 2) 1\n",
      "0.8150281233133088 (1, 1, 1, 1, 0, 351, 32, 131, 8, 44, 2) 1\n",
      "0.6660181026849424 (1, 1, 2, 0, 0, 392, 80, 145, 8, 1, 1) 1\n",
      "0.7361623286676736 (1, 1, 0, 0, 0, 116, 150, 75, 8, 1, 1) 1\n",
      "0.6385269294866601 (1, 0, 0, 0, 0, 135, 186, 97, 8, 1, 1) 1\n",
      "0.8933353897506185 (0, 1, 0, 1, 0, 143, 9, 55, 8, 50, 1) 1\n",
      "0.7536763103469959 (1, 1, 0, 0, 0, 326, 17, 73, 5, 1, 2) 1\n",
      "0.6174238317259678 (1, 1, 3, 0, 0, 479, 0, 176, 8, 1, 0) 1\n",
      "0.7420546735110485 (1, 1, 0, 0, 0, 20, 84, 53, 8, 1, 2) 1\n",
      "0.6390886697833494 (1, 0, 0, 0, 0, 381, 0, 93, 8, 1, 0) 1\n",
      "0.5729240533348586 (1, 0, 1, 1, 1, 272, 168, 110, 8, 0, 2) 0\n",
      "0.7917439101098533 (1, 1, 0, 0, 0, 307, 0, 31, 5, 1, 1) 1\n",
      "0.9193854467838315 (1, 1, 0, 0, 0, 397, 252, 165, 8, 48, 1) 1\n",
      "0.6325619232028928 (0, 0, 0, 0, 0, 338, 0, 85, 8, 1, 0) 1\n",
      "0.6347944372110816 (1, 0, 0, 0, 0, 198, 0, 80, 8, 1, 1) 0\n",
      "0.5866031432192665 (0, 0, 0, 0, 0, 454, 77, 150, 8, 1, 0) 0\n",
      "0.5803213101097219 (1, 0, 0, 1, 0, 408, 0, 83, 8, 1, 1) 1\n",
      "0.6811526989097254 (1, 1, 2, 0, 0, 269, 63, 119, 8, 1, 2) 1\n",
      "0.6667495151226873 (1, 1, 0, 0, 0, 461, 0, 153, 8, 1, 1) 1\n",
      "0.8136643821066946 (1, 1, 1, 0, 0, 361, 0, 9, 8, 1, 2) 1\n",
      "0.7370767888413127 (1, 1, 1, 0, 2, 279, 217, 140, 8, 2, 2) 0\n",
      "0.557672485450656 (0, 0, 0, 1, 0, 28, 161, 73, 11, 1, 2) 1\n",
      "0.6469240700852361 (0, 0, 0, 0, 1, 306, 0, 86, 8, 0, 1) 0\n",
      "0.7707620732525127 (1, 1, 2, 0, 1, 392, 42, 61, 8, 1, 0) 1\n",
      "0.7352858417186559 (1, 1, 0, 0, 0, 133, 193, 84, 8, 1, 1) 1\n",
      "0.7022779565013036 (1, 1, 0, 0, 0, 93, 147, 102, 8, 1, 1) 1\n",
      "0.5884179471413928 (0, 1, 0, 1, 0, 48, 210, 125, 8, 0, 1) 0\n",
      "0.7405138257713731 (1, 1, 0, 0, 0, 114, 121, 63, 8, 1, 0) 1\n",
      "0.719355633121471 (1, 0, 1, 0, 0, 464, 0, 138, 8, 26, 1) 0\n",
      "0.6606223986341062 (1, 0, 0, 0, 0, 394, 0, 71, 8, 0, 0) 0\n",
      "0.49964545266394755 (0, 0, 3, 0, 0, 153, 0, 163, 8, 1, 0) 1\n",
      "0.5805344183429546 (1, 0, 0, 0, 0, 442, 0, 159, 8, 1, 2) 0\n",
      "0.6221453483942093 (1, 0, 0, 1, 0, 9, 0, 5, 8, 1, 2) 0\n",
      "0.7288450897646206 (1, 1, 1, 0, 0, 16, 148, 60, 8, 1, 0) 1\n",
      "0.6062879546812721 (1, 0, 0, 1, 0, 110, 0, 25, 7, 1, 0) 0\n",
      "0.743747688266003 (1, 1, 0, 0, 0, 233, 118, 73, 8, 1, 0) 1\n",
      "0.781645855942444 (2, 1, 0, 0, 0, 486, 0, 63, 8, 1, 1) 1\n",
      "0.7291148870573251 (1, 1, 2, 0, 0, 104, 33, 50, 8, 1, 1) 1\n",
      "0.7050800015863328 (1, 1, 0, 0, 0, 427, 98, 126, 8, 1, 0) 1\n",
      "0.6352534280441865 (1, 0, 4, 0, 0, 137, 0, 43, 8, 0, 1) 0\n",
      "0.7233904404185936 (1, 1, 3, 0, 0, 144, 0, 52, 8, 1, 2) 1\n",
      "0.6144594905976279 (1, 0, 0, 0, 0, 353, 0, 119, 8, 1, 2) 1\n"
     ]
    }
   ],
   "source": [
    "predictions = linear.predict(x_test)\n",
    "for x in range(len(predictions)):\n",
    "    print(predictions[x], x_test[x], y_test[x])"
   ]
  },
  {
   "cell_type": "code",
   "execution_count": 13,
   "metadata": {},
   "outputs": [],
   "source": [
    "import matplotlib.pyplot as plt\n",
    "from matplotlib import style"
   ]
  },
  {
   "cell_type": "code",
   "execution_count": 14,
   "metadata": {},
   "outputs": [],
   "source": [
    "style.use(\"ggplot\")"
   ]
  },
  {
   "cell_type": "code",
   "execution_count": 41,
   "metadata": {},
   "outputs": [
    {
     "data": {
      "image/png": "[encoded data removed]",
      "text/plain": [
       "<Figure size 432x288 with 1 Axes>"
      ]
     },
     "metadata": {},
     "output_type": "display_data"
    }
   ],
   "source": [
    "plot = \"Credit\"\n",
    "plt.scatter(Married, Loan)\n",
    "plt.xlabel(plot)\n",
    "plt.ylabel(\"Loan\")\n",
    "plt.show()"
   ]
  },
  {
   "cell_type": "code",
   "execution_count": 16,
   "metadata": {},
   "outputs": [
    {
     "data": {
      "text/plain": [
       "array([0, 1, 1, 1, 0, 1, 1, 1, 1, 1, 1, 1, 1, 0, 1, 0, 0, 0, 1, 1, 1, 1,\n",
       "       1, 1, 1, 1, 1, 1, 0, 0, 1, 0, 0, 1, 0, 1, 1, 1, 0, 0, 0, 0, 1, 1,\n",
       "       1, 0, 1, 1, 1, 0, 1, 0, 0, 1, 1, 1, 1, 1, 1, 1, 1, 1, 1, 1, 0, 1,\n",
       "       0, 1, 1, 0, 1, 1, 0, 1, 1, 0, 0, 1, 1, 1, 0, 1, 1, 1, 1, 0, 1, 1,\n",
       "       0, 1, 1, 1, 1, 0, 0, 0, 1, 1, 1, 1, 1, 0, 1, 1, 2, 1, 1, 0, 1, 1,\n",
       "       0, 1, 1, 0, 0, 1, 1, 1, 1, 0, 1, 0, 0, 1, 1, 0, 1, 0, 1, 1, 0, 0,\n",
       "       0, 1, 0, 1, 1, 1, 0, 1, 1, 0, 0, 1, 1, 1, 1, 1, 0, 1, 0, 1, 0, 1,\n",
       "       0, 1, 1, 1, 0, 1, 1, 1, 1, 1, 1, 1, 1, 1, 0, 1, 1, 1, 1, 1, 1, 1,\n",
       "       1, 1, 1, 0, 1, 0, 1, 1, 1, 1, 1, 1, 1, 1, 0, 0, 1, 0, 0, 1, 0, 0,\n",
       "       1, 0, 1, 0, 1, 1, 1, 0, 0, 0, 0, 0, 0, 1, 1, 1, 1, 1, 1, 1, 1, 1,\n",
       "       1, 1, 0, 1, 1, 1, 1, 1, 2, 0, 1, 1, 0, 0, 1, 1, 1, 0, 0, 1, 1, 1,\n",
       "       0, 1, 1, 0, 1, 1, 1, 1, 1, 0, 0, 1, 0, 0, 0, 1, 1, 1, 1, 0, 0, 0,\n",
       "       0, 0, 1, 1, 0, 0, 0, 1, 0, 1, 1, 1, 1, 1, 1, 1, 0, 1, 1, 0, 1, 0,\n",
       "       0, 1, 0, 0, 1, 1, 1, 0, 1, 1, 1, 1, 0, 1, 1, 1, 0, 1, 0, 0, 0, 0,\n",
       "       0, 1, 0, 0, 0, 1, 1, 1, 1, 1, 0, 1, 1, 1, 1, 0, 1, 1, 0, 1, 1, 0,\n",
       "       0, 0, 0, 1, 1, 1, 1, 1, 0, 0, 1, 0, 1, 1, 1, 1, 1, 1, 1, 1, 1, 0,\n",
       "       1, 1, 1, 0, 1, 1, 1, 1, 0, 1, 1, 1, 0, 0, 0, 0, 1, 1, 0, 1, 1, 0,\n",
       "       0, 1, 1, 1, 0, 1, 1, 0, 0, 0, 1, 0, 0, 1, 1, 1, 0, 1, 1, 1, 1, 1,\n",
       "       0, 1, 0, 0, 1, 0, 0, 0, 0, 0, 1, 0, 1, 1, 0, 1, 1, 1, 1, 0, 0, 1,\n",
       "       1, 1, 1, 0, 1, 1, 1, 1, 0, 1, 1, 0, 0, 0, 0, 1, 0, 2, 0, 1, 0, 1,\n",
       "       0, 1, 0, 0, 1, 1, 1, 1, 1, 0, 1, 1, 1, 1, 0, 1, 1, 1, 0, 1, 1, 1,\n",
       "       1, 0, 0, 0, 1, 1, 1, 1, 1, 1, 1, 0, 0, 1, 1, 1, 1, 1, 0, 1, 1, 1,\n",
       "       1, 1, 0, 1, 1, 0, 0, 1, 0, 0, 1, 1, 1, 1, 1, 0, 0, 0, 1, 1, 1, 1,\n",
       "       1, 0, 1, 0, 0, 1, 1, 1, 0, 1, 1, 1, 0, 0, 1, 0, 1, 1, 0, 1, 1, 1,\n",
       "       0, 0, 1, 1, 0, 0, 0, 0, 1, 0, 1, 1, 1, 0, 0, 1, 1, 1, 0, 0, 0, 1,\n",
       "       1, 1, 1, 1, 1, 1, 0, 1, 1, 1, 1, 1, 1, 0, 1, 1, 0, 1, 0, 1, 1, 1,\n",
       "       1, 1, 1, 1, 1, 0, 1, 0, 1, 0, 1, 1, 1, 1, 1, 0, 0, 1, 1, 1, 0, 1,\n",
       "       1, 0, 1, 0, 1, 1, 0, 1, 1, 0, 1, 1, 1, 1, 1, 0, 1, 1, 1, 0],\n",
       "      dtype=int64)"
      ]
     },
     "execution_count": 16,
     "metadata": {},
     "output_type": "execute_result"
    }
   ],
   "source": [
    "Married"
   ]
  },
  {
   "cell_type": "code",
   "execution_count": 29,
   "metadata": {},
   "outputs": [
    {
     "data": {
      "text/plain": [
       "array([0.69138563, 0.77762519, 0.59313603, 0.67081586, 0.70357319,\n",
       "       0.74901778, 0.68975747, 0.66921979, 0.70521631, 0.66327672,\n",
       "       0.59374838, 0.64017838, 0.69120156, 0.64929767, 0.74095862,\n",
       "       0.67114163, 0.60915703, 0.59090991, 0.59056291, 0.69478612,\n",
       "       0.98002091, 0.61137526, 0.69150341, 0.85257841, 0.5784172 ,\n",
       "       0.7459424 , 0.74071403, 0.69989284, 0.71758075, 0.62496187,\n",
       "       0.64833268, 0.73211228, 0.64545806, 0.81090968, 0.61041359,\n",
       "       0.68987677, 0.66459235, 0.73144121, 0.61686213, 0.6475089 ,\n",
       "       0.59363154, 0.71813059, 0.69054476, 0.63610877, 0.68622364,\n",
       "       0.59558299, 0.63730436, 0.62323064, 0.60352303, 0.68083666,\n",
       "       0.58147197, 0.67626752, 0.62517377, 0.69341584, 0.63652982,\n",
       "       0.68715921, 0.74472877, 0.80274084, 0.71504762, 0.76020236,\n",
       "       0.65219463, 0.71199749, 0.6655833 , 0.60216651, 0.68198539,\n",
       "       0.72713502, 0.64718906, 0.65187436, 0.72176158, 0.69784248,\n",
       "       0.72087028, 0.65760966, 0.66997148, 0.72724253, 0.75173498,\n",
       "       0.6993544 , 0.83632898, 0.74481607, 0.81957536, 0.61950273,\n",
       "       0.81605617, 0.63958589, 0.81502812, 0.6660181 , 0.73616233,\n",
       "       0.63852693, 0.89333539, 0.75367631, 0.61742383, 0.74205467,\n",
       "       0.63908867, 0.57292405, 0.79174391, 0.91938545, 0.63256192,\n",
       "       0.63479444, 0.58660314, 0.58032131, 0.6811527 , 0.66674952,\n",
       "       0.81366438, 0.73707679, 0.55767249, 0.64692407, 0.77076207,\n",
       "       0.73528584, 0.70227796, 0.58841795, 0.74051383, 0.71935563,\n",
       "       0.6606224 , 0.49964545, 0.58053442, 0.62214535, 0.72884509,\n",
       "       0.60628795, 0.74374769, 0.78164586, 0.72911489, 0.70508   ,\n",
       "       0.63525343, 0.72339044, 0.61445949])"
      ]
     },
     "execution_count": 29,
     "metadata": {},
     "output_type": "execute_result"
    }
   ],
   "source": [
    "predictions"
   ]
  },
  {
   "cell_type": "code",
   "execution_count": 35,
   "metadata": {},
   "outputs": [
    {
     "data": {
      "text/plain": [
       "(123,)"
      ]
     },
     "execution_count": 35,
     "metadata": {},
     "output_type": "execute_result"
    }
   ],
   "source": [
    "for x in range(len(predictions)):\n",
    "    if predictions[x]<=0.5:\n",
    "        predictions[x] = 0\n",
    "    else:\n",
    "        predictions[x] = 1\n",
    "from sklearn.metrics import jaccard_similarity_score\n",
    "jaccard_similarity_score(y_test, predictions)\n",
    "predictions.shape"
   ]
  },
  {
   "cell_type": "code",
   "execution_count": 31,
   "metadata": {},
   "outputs": [
    {
     "name": "stdout",
     "output_type": "stream",
     "text": [
      "[[85  1]\n",
      " [37  0]]\n"
     ]
    }
   ],
   "source": [
    "from sklearn.metrics import classification_report, confusion_matrix\n",
    "import itertools\n",
    "def plot_confusion_matrix(cm, classes,\n",
    "                          normalize=False,\n",
    "                          title='Confusion matrix',\n",
    "                          cmap=plt.cm.Blues):\n",
    "    \"\"\"\n",
    "    This function prints and plots the confusion matrix.\n",
    "    Normalization can be applied by setting `normalize=True`.\n",
    "    \"\"\"\n",
    "    if normalize:\n",
    "        cm = cm.astype('float') / cm.sum(axis=1)[:, np.newaxis]\n",
    "        print(\"Normalized confusion matrix\")\n",
    "    else:\n",
    "        print('Confusion matrix, without normalization')\n",
    "\n",
    "    print(cm)\n",
    "\n",
    "    plt.imshow(cm, interpolation='nearest', cmap=cmap)\n",
    "    plt.title(title)\n",
    "    plt.colorbar()\n",
    "    tick_marks = np.arange(len(classes))\n",
    "    plt.xticks(tick_marks, classes, rotation=45)\n",
    "    plt.yticks(tick_marks, classes)\n",
    "\n",
    "    fmt = '.2f' if normalize else 'd'\n",
    "    thresh = cm.max() / 2.\n",
    "    for i, j in itertools.product(range(cm.shape[0]), range(cm.shape[1])):\n",
    "        plt.text(j, i, format(cm[i, j], fmt),\n",
    "                 horizontalalignment=\"center\",\n",
    "                 color=\"white\" if cm[i, j] > thresh else \"black\")\n",
    "\n",
    "    plt.tight_layout()\n",
    "    plt.ylabel('True label')\n",
    "    plt.xlabel('Predicted label')\n",
    "print(confusion_matrix(y_test, predictions, labels=[1,0]))"
   ]
  },
  {
   "cell_type": "code",
   "execution_count": 32,
   "metadata": {},
   "outputs": [
    {
     "name": "stdout",
     "output_type": "stream",
     "text": [
      "Confusion matrix, without normalization\n",
      "[[85  1]\n",
      " [37  0]]\n"
     ]
    },
    {
     "data": {
      "image/png": "[encoded data removed]",
      "text/plain": [
       "<Figure size 432x288 with 2 Axes>"
      ]
     },
     "metadata": {},
     "output_type": "display_data"
    }
   ],
   "source": [
    "# Compute confusion matrix\n",
    "cnf_matrix = confusion_matrix(y_test, predictions, labels=[1,0])\n",
    "np.set_printoptions(precision=2)\n",
    "\n",
    "\n",
    "# Plot non-normalized confusion matrix\n",
    "plt.figure()\n",
    "plot_confusion_matrix(cnf_matrix, classes=['churn=1','churn=0'],normalize= False,  title='Confusion matrix')"
   ]
  },
  {
   "cell_type": "code",
   "execution_count": 33,
   "metadata": {},
   "outputs": [
    {
     "name": "stdout",
     "output_type": "stream",
     "text": [
      "              precision    recall  f1-score   support\n",
      "\n",
      "           0       0.00      0.00      0.00        37\n",
      "           1       0.70      0.99      0.82        86\n",
      "\n",
      "    accuracy                           0.69       123\n",
      "   macro avg       0.35      0.49      0.41       123\n",
      "weighted avg       0.49      0.69      0.57       123\n",
      "\n"
     ]
    }
   ],
   "source": [
    "print (classification_report(y_test, predictions))"
   ]
  },
  {
   "cell_type": "code",
   "execution_count": 49,
   "metadata": {},
   "outputs": [
    {
     "data": {
      "image/png": "[encoded data removed]",
      "text/plain": [
       "<Figure size 432x288 with 1 Axes>"
      ]
     },
     "metadata": {},
     "output_type": "display_data"
    }
   ],
   "source": [
    "import sklearn.metrics as metrics\n",
    "# calculate the fpr and tpr for all thresholds of the classification\n",
    "probs = linear.predict(x_test)\n",
    "preds = predictions\n",
    "fpr, tpr, threshold = metrics.roc_curve(y_test, preds)\n",
    "roc_auc = metrics.auc(fpr, tpr)\n",
    "\n",
    "# method I: plt\n",
    "import matplotlib.pyplot as plt\n",
    "plt.title('Receiver Operating Characteristic')\n",
    "plt.plot(fpr, tpr, 'b', label = 'AUC = %0.2f' % roc_auc)\n",
    "plt.legend(loc = 'lower right')\n",
    "plt.plot([0, 1], [0, 1],'r--')\n",
    "plt.xlim([0, 1])\n",
    "plt.ylim([0, 1])\n",
    "plt.ylabel('True Positive Rate')\n",
    "plt.xlabel('False Positive Rate')\n",
    "plt.show()\n",
    "\n"
   ]
  },
  {
   "cell_type": "code",
   "execution_count": 50,
   "metadata": {},
   "outputs": [
    {
     "name": "stdout",
     "output_type": "stream",
     "text": [
      "Linear Regression's Accuracy:  0.6910569105691057\n"
     ]
    }
   ],
   "source": [
    "from sklearn import metrics\n",
    "import matplotlib.pyplot as plt\n",
    "print(\"Linear Regression's Accuracy: \", metrics.accuracy_score(y_test, predictions))"
   ]
  },
  {
   "cell_type": "code",
   "execution_count": null,
   "metadata": {},
   "outputs": [],
   "source": []
  }
 ],
 "metadata": {
  "kernelspec": {
   "display_name": "Python 3",
   "language": "python",
   "name": "python3"
  },
  "language_info": {
   "codemirror_mode": {
    "name": "ipython",
    "version": 3
   },
   "file_extension": ".py",
   "mimetype": "text/x-python",
   "name": "python",
   "nbconvert_exporter": "python",
   "pygments_lexer": "ipython3",
   "version": "3.7.4"
  }
 },
 "nbformat": 4,
 "nbformat_minor": 2
}
