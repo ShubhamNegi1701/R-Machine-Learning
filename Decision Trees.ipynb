{
 "cells": [
  {
   "cell_type": "code",
   "execution_count": 1,
   "metadata": {},
   "outputs": [],
   "source": [
    "import numpy as np \n",
    "import pandas as pd\n",
    "from sklearn.tree import DecisionTreeClassifier"
   ]
  },
  {
   "cell_type": "code",
   "execution_count": 2,
   "metadata": {},
   "outputs": [],
   "source": [
    "data = pd.read_csv(r\"C:\\\\Users\\\\User\\\\Desktop\\\\Credit_Risk_Train_data.csv\")"
   ]
  },
  {
   "cell_type": "code",
   "execution_count": 3,
   "metadata": {},
   "outputs": [
    {
     "name": "stdout",
     "output_type": "stream",
     "text": [
      "    Loan_ID Gender Married Dependents     Education Self_Employed  \\\n",
      "0  LP001002   Male      No          0      Graduate            No   \n",
      "1  LP001003   Male     Yes          1      Graduate            No   \n",
      "2  LP001005   Male     Yes          0      Graduate           Yes   \n",
      "3  LP001006   Male     Yes          0  Not Graduate            No   \n",
      "4  LP001008   Male      No          0      Graduate            No   \n",
      "\n",
      "   ApplicantIncome  CoapplicantIncome  LoanAmount  Loan_Amount_Term  \\\n",
      "0             5849                0.0         NaN             360.0   \n",
      "1             4583             1508.0       128.0             360.0   \n",
      "2             3000                0.0        66.0             360.0   \n",
      "3             2583             2358.0       120.0             360.0   \n",
      "4             6000                0.0       141.0             360.0   \n",
      "\n",
      "   Credit_History Property_Area Loan_Status  \n",
      "0             1.0         Urban           Y  \n",
      "1             1.0         Rural           N  \n",
      "2             1.0         Urban           Y  \n",
      "3             1.0         Urban           Y  \n",
      "4             1.0         Urban           Y  \n"
     ]
    }
   ],
   "source": [
    "print(data.head())"
   ]
  },
  {
   "cell_type": "code",
   "execution_count": 5,
   "metadata": {},
   "outputs": [
    {
     "data": {
      "text/plain": [
       "array([['Male', 'No', '0', 'Graduate', 'No', 5849, 0.0, nan, 360.0, 1.0,\n",
       "        'Urban'],\n",
       "       ['Male', 'Yes', '1', 'Graduate', 'No', 4583, 1508.0, 128.0, 360.0,\n",
       "        1.0, 'Rural'],\n",
       "       ['Male', 'Yes', '0', 'Graduate', 'Yes', 3000, 0.0, 66.0, 360.0,\n",
       "        1.0, 'Urban'],\n",
       "       ['Male', 'Yes', '0', 'Not Graduate', 'No', 2583, 2358.0, 120.0,\n",
       "        360.0, 1.0, 'Urban'],\n",
       "       ['Male', 'No', '0', 'Graduate', 'No', 6000, 0.0, 141.0, 360.0,\n",
       "        1.0, 'Urban'],\n",
       "       ['Male', 'Yes', '2', 'Graduate', 'Yes', 5417, 4196.0, 267.0,\n",
       "        360.0, 1.0, 'Urban'],\n",
       "       ['Male', 'Yes', '0', 'Not Graduate', 'No', 2333, 1516.0, 95.0,\n",
       "        360.0, 1.0, 'Urban'],\n",
       "       ['Male', 'Yes', '3+', 'Graduate', 'No', 3036, 2504.0, 158.0,\n",
       "        360.0, 0.0, 'Semiurban'],\n",
       "       ['Male', 'Yes', '2', 'Graduate', 'No', 4006, 1526.0, 168.0, 360.0,\n",
       "        1.0, 'Urban'],\n",
       "       ['Male', 'Yes', '1', 'Graduate', 'No', 12841, 10968.0, 349.0,\n",
       "        360.0, 1.0, 'Semiurban'],\n",
       "       ['Male', 'Yes', '2', 'Graduate', 'No', 3200, 700.0, 70.0, 360.0,\n",
       "        1.0, 'Urban']], dtype=object)"
      ]
     },
     "execution_count": 5,
     "metadata": {},
     "output_type": "execute_result"
    }
   ],
   "source": [
    "X = data[['Gender', 'Married', 'Dependents', 'Education', 'Self_Employed', 'ApplicantIncome', 'CoapplicantIncome', 'LoanAmount','Loan_Amount_Term', 'Credit_History', 'Property_Area']].values\n",
    "X[0:11]"
   ]
  },
  {
   "cell_type": "code",
   "execution_count": 7,
   "metadata": {},
   "outputs": [],
   "source": [
    "from sklearn import linear_model, preprocessing\n",
    "le = preprocessing.LabelEncoder()\n",
    "Gender = le.fit_transform(list(data[\"Gender\"]))\n",
    "Married = le.fit_transform(list(data[\"Married\"]))\n",
    "Dependents = le.fit_transform(list(data[\"Dependents\"]))\n",
    "Education = le.fit_transform(list(data[\"Education\"]))\n",
    "Employment = le.fit_transform(list(data[\"Self_Employed\"]))\n",
    "Application = le.fit_transform(list(data[\"ApplicantIncome\"]))\n",
    "Cincome = le.fit_transform(list(data[\"CoapplicantIncome\"]))\n",
    "LoanAmount = le.fit_transform(list(data[\"LoanAmount\"]))\n",
    "Loanterm = le.fit_transform(list(data[\"Loan_Amount_Term\"]))\n",
    "Credit = le.fit_transform(list(data[\"Credit_History\"]))\n",
    "Property = le.fit_transform(list(data[\"Property_Area\"]))\n",
    "Loan = le.fit_transform(list(data[\"Loan_Status\"]))"
   ]
  },
  {
   "cell_type": "code",
   "execution_count": 11,
   "metadata": {},
   "outputs": [],
   "source": [
    "X = list(zip(Gender,Married,Dependents,Education,Employment,Application,Cincome,LoanAmount,Loanterm,Credit,Property))\n",
    "y = list(Loan)\n",
    "from sklearn.model_selection import train_test_split\n",
    "X_trainset, X_testset, y_trainset, y_testset = train_test_split(X, y, test_size=0.2, random_state=4)"
   ]
  },
  {
   "cell_type": "code",
   "execution_count": 12,
   "metadata": {},
   "outputs": [
    {
     "data": {
      "text/plain": [
       "DecisionTreeClassifier(class_weight=None, criterion='entropy', max_depth=4,\n",
       "                       max_features=None, max_leaf_nodes=None,\n",
       "                       min_impurity_decrease=0.0, min_impurity_split=None,\n",
       "                       min_samples_leaf=1, min_samples_split=2,\n",
       "                       min_weight_fraction_leaf=0.0, presort=False,\n",
       "                       random_state=None, splitter='best')"
      ]
     },
     "execution_count": 12,
     "metadata": {},
     "output_type": "execute_result"
    }
   ],
   "source": [
    "LoanTree = DecisionTreeClassifier(criterion=\"entropy\", max_depth = 4)\n",
    "LoanTree "
   ]
  },
  {
   "cell_type": "code",
   "execution_count": 14,
   "metadata": {},
   "outputs": [
    {
     "data": {
      "text/plain": [
       "DecisionTreeClassifier(class_weight=None, criterion='entropy', max_depth=4,\n",
       "                       max_features=None, max_leaf_nodes=None,\n",
       "                       min_impurity_decrease=0.0, min_impurity_split=None,\n",
       "                       min_samples_leaf=1, min_samples_split=2,\n",
       "                       min_weight_fraction_leaf=0.0, presort=False,\n",
       "                       random_state=None, splitter='best')"
      ]
     },
     "execution_count": 14,
     "metadata": {},
     "output_type": "execute_result"
    }
   ],
   "source": [
    "LoanTree.fit(X_trainset,y_trainset)"
   ]
  },
  {
   "cell_type": "code",
   "execution_count": 15,
   "metadata": {},
   "outputs": [],
   "source": [
    "predTree = LoanTree.predict(X_testset)"
   ]
  },
  {
   "cell_type": "code",
   "execution_count": 16,
   "metadata": {},
   "outputs": [
    {
     "name": "stdout",
     "output_type": "stream",
     "text": [
      "[1 1 1 1 1 1 1 0 1 1 1 1 1 1 1 1 1 1 0 1 0 1 1 1 0 1 1 1 1 1 1 1 1 1 1 1 1\n",
      " 1 0 1 1 1 1 1 1 1 1 1 1 1 1 1 1 1 1 0 0 1 1 1 0 1 1 1 1 0 0 1 1 0 1 1 1 1\n",
      " 1 1 1 1 1 1 1 1 1 0 1 1 1 1 1 1 1 1 1 1 0 1 1 1 1 1 1 1 1 1 1 1 0 1 1 0 1\n",
      " 0 1 1 0 1 1 1 1 0 1 0 1]\n",
      "[1, 1, 0, 0, 1, 1, 0, 0, 0, 1, 1, 1, 1, 0, 0, 1, 0, 1, 1, 1, 1, 1, 1, 1, 0, 1, 0, 1, 1, 1, 0, 1, 1, 0, 0, 0, 1, 1, 0, 1, 1, 1, 1, 1, 0, 1, 1, 0, 1, 1, 1, 1, 1, 0, 1, 0, 0, 1, 1, 1, 0, 0, 1, 1, 1, 0, 1, 1, 0, 0, 1, 1, 0, 1, 1, 1, 1, 1, 1, 1, 1, 1, 1, 0, 1, 1, 1, 1, 1, 1, 1, 0, 0, 1, 0, 0, 1, 1, 1, 1, 1, 1, 1, 1, 1, 0, 0, 1, 1, 0, 0, 0, 1, 1, 0, 1, 1, 1, 1, 0, 1, 0, 0]\n"
     ]
    }
   ],
   "source": [
    "print (predTree )\n",
    "print (y_testset )"
   ]
  },
  {
   "cell_type": "code",
   "execution_count": 17,
   "metadata": {},
   "outputs": [
    {
     "name": "stdout",
     "output_type": "stream",
     "text": [
      "DecisionTrees's Accuracy:  0.7804878048780488\n"
     ]
    }
   ],
   "source": [
    "from sklearn import metrics\n",
    "import matplotlib.pyplot as plt\n",
    "print(\"DecisionTrees's Accuracy: \", metrics.accuracy_score(y_testset, predTree))"
   ]
  },
  {
   "cell_type": "code",
   "execution_count": 19,
   "metadata": {},
   "outputs": [
    {
     "name": "stdout",
     "output_type": "stream",
     "text": [
      "Collecting package metadata (current_repodata.json): ...working... done\n",
      "Solving environment: ...working... done\n",
      "\n",
      "## Package Plan ##\n",
      "\n",
      "  environment location: C:\\Users\\User\\Anaconda3\n",
      "\n",
      "  added / updated specs:\n",
      "    - pydotplus\n",
      "\n",
      "\n",
      "The following packages will be downloaded:\n",
      "\n",
      "    package                    |            build\n",
      "    ---------------------------|-----------------\n",
      "    certifi-2019.9.11          |           py37_0         147 KB  conda-forge\n",
      "    conda-4.7.12               |           py37_0         3.0 MB  conda-forge\n",
      "    graphviz-2.38.0            |    h6538335_1011        41.0 MB  conda-forge\n",
      "    pydotplus-2.0.2            |             py_2          23 KB  conda-forge\n",
      "    ------------------------------------------------------------\n",
      "                                           Total:        44.1 MB\n",
      "\n",
      "The following NEW packages will be INSTALLED:\n",
      "\n",
      "  graphviz           conda-forge/win-64::graphviz-2.38.0-h6538335_1011\n",
      "  pydotplus          conda-forge/noarch::pydotplus-2.0.2-py_2\n",
      "\n",
      "The following packages will be SUPERSEDED by a higher-priority channel:\n",
      "\n",
      "  certifi                                         pkgs/main --> conda-forge\n",
      "  conda                                           pkgs/main --> conda-forge\n",
      "\n",
      "\n",
      "\n",
      "Downloading and Extracting Packages\n",
      "\n",
      "conda-4.7.12         | 3.0 MB    |            |   0% \n",
      "conda-4.7.12         | 3.0 MB    |            |   1% \n",
      "conda-4.7.12         | 3.0 MB    | #1         |  11% \n",
      "conda-4.7.12         | 3.0 MB    | ##2        |  22% \n",
      "conda-4.7.12         | 3.0 MB    | ###        |  30% \n",
      "conda-4.7.12         | 3.0 MB    | ###9       |  40% \n",
      "conda-4.7.12         | 3.0 MB    | ####6      |  47% \n",
      "conda-4.7.12         | 3.0 MB    | #####4     |  55% \n",
      "conda-4.7.12         | 3.0 MB    | ######4    |  64% \n",
      "conda-4.7.12         | 3.0 MB    | #######6   |  76% \n",
      "conda-4.7.12         | 3.0 MB    | ########5  |  86% \n",
      "conda-4.7.12         | 3.0 MB    | #########5 |  96% \n",
      "conda-4.7.12         | 3.0 MB    | ########## | 100% \n",
      "\n",
      "certifi-2019.9.11    | 147 KB    |            |   0% \n",
      "certifi-2019.9.11    | 147 KB    | ######5    |  65% \n",
      "certifi-2019.9.11    | 147 KB    | ########## | 100% \n",
      "\n",
      "graphviz-2.38.0      | 41.0 MB   |            |   0% \n",
      "graphviz-2.38.0      | 41.0 MB   |            |   0% \n",
      "graphviz-2.38.0      | 41.0 MB   |            |   1% \n",
      "graphviz-2.38.0      | 41.0 MB   | 1          |   2% \n",
      "graphviz-2.38.0      | 41.0 MB   | 2          |   3% \n",
      "graphviz-2.38.0      | 41.0 MB   | 3          |   4% \n",
      "graphviz-2.38.0      | 41.0 MB   | 4          |   4% \n",
      "graphviz-2.38.0      | 41.0 MB   | 5          |   5% \n",
      "graphviz-2.38.0      | 41.0 MB   | 5          |   6% \n",
      "graphviz-2.38.0      | 41.0 MB   | 6          |   7% \n",
      "graphviz-2.38.0      | 41.0 MB   | 7          |   8% \n",
      "graphviz-2.38.0      | 41.0 MB   | 8          |   9% \n",
      "graphviz-2.38.0      | 41.0 MB   | 9          |   9% \n",
      "graphviz-2.38.0      | 41.0 MB   | #          |  10% \n",
      "graphviz-2.38.0      | 41.0 MB   | #          |  11% \n",
      "graphviz-2.38.0      | 41.0 MB   | #1         |  12% \n",
      "graphviz-2.38.0      | 41.0 MB   | #2         |  13% \n",
      "graphviz-2.38.0      | 41.0 MB   | #3         |  13% \n",
      "graphviz-2.38.0      | 41.0 MB   | #3         |  14% \n",
      "graphviz-2.38.0      | 41.0 MB   | #4         |  15% \n",
      "graphviz-2.38.0      | 41.0 MB   | #5         |  15% \n",
      "graphviz-2.38.0      | 41.0 MB   | #6         |  16% \n",
      "graphviz-2.38.0      | 41.0 MB   | #7         |  17% \n",
      "graphviz-2.38.0      | 41.0 MB   | #7         |  18% \n",
      "graphviz-2.38.0      | 41.0 MB   | #8         |  19% \n",
      "graphviz-2.38.0      | 41.0 MB   | #9         |  19% \n",
      "graphviz-2.38.0      | 41.0 MB   | ##         |  20% \n",
      "graphviz-2.38.0      | 41.0 MB   | ##         |  21% \n",
      "graphviz-2.38.0      | 41.0 MB   | ##1        |  22% \n",
      "graphviz-2.38.0      | 41.0 MB   | ##2        |  22% \n",
      "graphviz-2.38.0      | 41.0 MB   | ##3        |  23% \n",
      "graphviz-2.38.0      | 41.0 MB   | ##3        |  24% \n",
      "graphviz-2.38.0      | 41.0 MB   | ##4        |  25% \n",
      "graphviz-2.38.0      | 41.0 MB   | ##5        |  26% \n",
      "graphviz-2.38.0      | 41.0 MB   | ##6        |  26% \n",
      "graphviz-2.38.0      | 41.0 MB   | ##7        |  27% \n",
      "graphviz-2.38.0      | 41.0 MB   | ##8        |  28% \n",
      "graphviz-2.38.0      | 41.0 MB   | ##9        |  29% \n",
      "graphviz-2.38.0      | 41.0 MB   | ##9        |  30% \n",
      "graphviz-2.38.0      | 41.0 MB   | ###        |  30% \n",
      "graphviz-2.38.0      | 41.0 MB   | ###1       |  31% \n",
      "graphviz-2.38.0      | 41.0 MB   | ###1       |  32% \n",
      "graphviz-2.38.0      | 41.0 MB   | ###2       |  32% \n",
      "graphviz-2.38.0      | 41.0 MB   | ###3       |  33% \n",
      "graphviz-2.38.0      | 41.0 MB   | ###4       |  34% \n",
      "graphviz-2.38.0      | 41.0 MB   | ###5       |  35% \n",
      "graphviz-2.38.0      | 41.0 MB   | ###5       |  36% \n",
      "graphviz-2.38.0      | 41.0 MB   | ###6       |  37% \n",
      "graphviz-2.38.0      | 41.0 MB   | ###7       |  37% \n",
      "graphviz-2.38.0      | 41.0 MB   | ###8       |  38% \n",
      "graphviz-2.38.0      | 41.0 MB   | ###9       |  39% \n",
      "graphviz-2.38.0      | 41.0 MB   | ###9       |  40% \n",
      "graphviz-2.38.0      | 41.0 MB   | ####       |  41% \n",
      "graphviz-2.38.0      | 41.0 MB   | ####1      |  42% \n",
      "graphviz-2.38.0      | 41.0 MB   | ####2      |  42% \n",
      "graphviz-2.38.0      | 41.0 MB   | ####2      |  43% \n",
      "graphviz-2.38.0      | 41.0 MB   | ####3      |  44% \n",
      "graphviz-2.38.0      | 41.0 MB   | ####4      |  45% \n",
      "graphviz-2.38.0      | 41.0 MB   | ####5      |  45% \n",
      "graphviz-2.38.0      | 41.0 MB   | ####6      |  46% \n",
      "graphviz-2.38.0      | 41.0 MB   | ####6      |  47% \n",
      "graphviz-2.38.0      | 41.0 MB   | ####7      |  47% \n",
      "graphviz-2.38.0      | 41.0 MB   | ####7      |  48% \n",
      "graphviz-2.38.0      | 41.0 MB   | ####8      |  49% \n",
      "graphviz-2.38.0      | 41.0 MB   | ####9      |  49% \n",
      "graphviz-2.38.0      | 41.0 MB   | #####      |  50% \n",
      "graphviz-2.38.0      | 41.0 MB   | #####      |  51% \n",
      "graphviz-2.38.0      | 41.0 MB   | #####1     |  51% \n",
      "graphviz-2.38.0      | 41.0 MB   | #####2     |  52% \n",
      "graphviz-2.38.0      | 41.0 MB   | #####2     |  53% \n",
      "graphviz-2.38.0      | 41.0 MB   | #####3     |  53% \n",
      "graphviz-2.38.0      | 41.0 MB   | #####4     |  54% \n",
      "graphviz-2.38.0      | 41.0 MB   | #####4     |  55% \n",
      "graphviz-2.38.0      | 41.0 MB   | #####5     |  56% \n",
      "graphviz-2.38.0      | 41.0 MB   | #####6     |  56% \n",
      "graphviz-2.38.0      | 41.0 MB   | #####6     |  57% \n",
      "graphviz-2.38.0      | 41.0 MB   | #####7     |  58% \n",
      "graphviz-2.38.0      | 41.0 MB   | #####8     |  58% \n",
      "graphviz-2.38.0      | 41.0 MB   | #####9     |  59% \n",
      "graphviz-2.38.0      | 41.0 MB   | #####9     |  60% \n",
      "graphviz-2.38.0      | 41.0 MB   | ######     |  61% \n",
      "graphviz-2.38.0      | 41.0 MB   | ######1    |  62% \n",
      "graphviz-2.38.0      | 41.0 MB   | ######2    |  62% \n",
      "graphviz-2.38.0      | 41.0 MB   | ######3    |  63% \n",
      "graphviz-2.38.0      | 41.0 MB   | ######4    |  64% \n",
      "graphviz-2.38.0      | 41.0 MB   | ######4    |  65% \n",
      "graphviz-2.38.0      | 41.0 MB   | ######5    |  65% \n",
      "graphviz-2.38.0      | 41.0 MB   | ######6    |  66% \n",
      "graphviz-2.38.0      | 41.0 MB   | ######7    |  67% \n",
      "graphviz-2.38.0      | 41.0 MB   | ######8    |  68% \n",
      "graphviz-2.38.0      | 41.0 MB   | ######9    |  69% \n",
      "graphviz-2.38.0      | 41.0 MB   | ######9    |  70% \n",
      "graphviz-2.38.0      | 41.0 MB   | #######    |  71% \n",
      "graphviz-2.38.0      | 41.0 MB   | #######1   |  72% \n",
      "graphviz-2.38.0      | 41.0 MB   | #######2   |  72% \n",
      "graphviz-2.38.0      | 41.0 MB   | #######3   |  73% \n",
      "graphviz-2.38.0      | 41.0 MB   | #######4   |  74% \n",
      "graphviz-2.38.0      | 41.0 MB   | #######4   |  75% \n",
      "graphviz-2.38.0      | 41.0 MB   | #######5   |  76% \n",
      "graphviz-2.38.0      | 41.0 MB   | #######6   |  77% \n",
      "graphviz-2.38.0      | 41.0 MB   | #######7   |  77% \n",
      "graphviz-2.38.0      | 41.0 MB   | #######8   |  78% \n",
      "graphviz-2.38.0      | 41.0 MB   | #######9   |  79% \n",
      "graphviz-2.38.0      | 41.0 MB   | ########   |  80% \n",
      "graphviz-2.38.0      | 41.0 MB   | ########1  |  81% \n",
      "graphviz-2.38.0      | 41.0 MB   | ########1  |  82% \n",
      "graphviz-2.38.0      | 41.0 MB   | ########2  |  83% \n",
      "graphviz-2.38.0      | 41.0 MB   | ########3  |  84% \n",
      "graphviz-2.38.0      | 41.0 MB   | ########4  |  85% \n",
      "graphviz-2.38.0      | 41.0 MB   | ########5  |  85% \n",
      "graphviz-2.38.0      | 41.0 MB   | ########6  |  86% \n",
      "graphviz-2.38.0      | 41.0 MB   | ########7  |  87% \n",
      "graphviz-2.38.0      | 41.0 MB   | ########7  |  88% \n",
      "graphviz-2.38.0      | 41.0 MB   | ########8  |  89% \n",
      "graphviz-2.38.0      | 41.0 MB   | ########9  |  89% \n",
      "graphviz-2.38.0      | 41.0 MB   | #########  |  90% \n",
      "graphviz-2.38.0      | 41.0 MB   | #########1 |  91% \n",
      "graphviz-2.38.0      | 41.0 MB   | #########2 |  92% \n",
      "graphviz-2.38.0      | 41.0 MB   | #########3 |  93% \n",
      "graphviz-2.38.0      | 41.0 MB   | #########3 |  94% \n",
      "graphviz-2.38.0      | 41.0 MB   | #########4 |  95% \n",
      "graphviz-2.38.0      | 41.0 MB   | #########6 |  96% \n",
      "graphviz-2.38.0      | 41.0 MB   | #########7 |  97% \n",
      "graphviz-2.38.0      | 41.0 MB   | #########8 |  98% \n",
      "graphviz-2.38.0      | 41.0 MB   | #########9 |  99% \n",
      "graphviz-2.38.0      | 41.0 MB   | #########9 | 100% \n",
      "graphviz-2.38.0      | 41.0 MB   | ########## | 100% \n",
      "\n",
      "pydotplus-2.0.2      | 23 KB     |            |   0% \n",
      "pydotplus-2.0.2      | 23 KB     | ######9    |  69% \n",
      "pydotplus-2.0.2      | 23 KB     | ########## | 100% \n",
      "Preparing transaction: ...working... done\n",
      "Verifying transaction: ...working... done\n",
      "Executing transaction: ...working... done\n",
      "Collecting package metadata (current_repodata.json): ...working... done\n",
      "Solving environment: ...working... done\n",
      "\n",
      "## Package Plan ##\n",
      "\n",
      "  environment location: C:\\Users\\User\\Anaconda3\n",
      "\n",
      "  added / updated specs:\n",
      "    - python-graphviz\n",
      "\n",
      "\n",
      "The following packages will be downloaded:\n",
      "\n",
      "    package                    |            build\n",
      "    ---------------------------|-----------------\n",
      "    python-graphviz-0.13.2     |             py_0          18 KB  conda-forge\n",
      "    ------------------------------------------------------------\n",
      "                                           Total:          18 KB\n",
      "\n",
      "The following NEW packages will be INSTALLED:\n",
      "\n",
      "  python-graphviz    conda-forge/noarch::python-graphviz-0.13.2-py_0\n",
      "\n",
      "\n",
      "\n",
      "Downloading and Extracting Packages\n",
      "\n",
      "python-graphviz-0.13 | 18 KB     |            |   0% \n",
      "python-graphviz-0.13 | 18 KB     | ########8  |  88% \n",
      "python-graphviz-0.13 | 18 KB     | ########## | 100% \n",
      "Preparing transaction: ...working... done\n",
      "Verifying transaction: ...working... done\n",
      "Executing transaction: ...working... done\n"
     ]
    }
   ],
   "source": [
    "!conda install -c conda-forge pydotplus -y\n",
    "!conda install -c conda-forge python-graphviz -y"
   ]
  },
  {
   "cell_type": "code",
   "execution_count": 20,
   "metadata": {},
   "outputs": [],
   "source": [
    "from sklearn.externals.six import StringIO\n",
    "import pydotplus\n",
    "import matplotlib.image as mpimg\n",
    "from sklearn import tree\n",
    "%matplotlib inline "
   ]
  },
  {
   "cell_type": "code",
   "execution_count": 27,
   "metadata": {},
   "outputs": [
    {
     "data": {
      "image/png": "[encoded data removed]",
      "text/plain": [
       "<Figure size 432x288 with 1 Axes>"
      ]
     },
     "metadata": {
      "needs_background": "light"
     },
     "output_type": "display_data"
    }
   ],
   "source": [
    "import sklearn.metrics as metrics\n",
    "# calculate the fpr and tpr for all thresholds of the classification\n",
    "probs = LoanTree.predict(X_testset)\n",
    "preds = predTree\n",
    "fpr, tpr, threshold = metrics.roc_curve(y_testset, preds)\n",
    "roc_auc = metrics.auc(fpr, tpr)\n",
    "\n",
    "# method I: plt\n",
    "import matplotlib.pyplot as plt\n",
    "plt.title('Receiver Operating Characteristic')\n",
    "plt.plot(fpr, tpr, 'b', label = 'AUC = %0.2f' % roc_auc)\n",
    "plt.legend(loc = 'lower right')\n",
    "plt.plot([0, 1], [0, 1],'r--')\n",
    "plt.xlim([0, 1])\n",
    "plt.ylim([0, 1])\n",
    "plt.ylabel('True Positive Rate')\n",
    "plt.xlabel('False Positive Rate')\n",
    "plt.show()\n"
   ]
  },
  {
   "cell_type": "code",
   "execution_count": 28,
   "metadata": {},
   "outputs": [
    {
     "name": "stdout",
     "output_type": "stream",
     "text": [
      "[[80  3]\n",
      " [24 16]]\n"
     ]
    }
   ],
   "source": [
    "from sklearn.metrics import classification_report, confusion_matrix\n",
    "import itertools\n",
    "def plot_confusion_matrix(cm, classes,\n",
    "                          normalize=False,\n",
    "                          title='Confusion matrix',\n",
    "                          cmap=plt.cm.Blues):\n",
    "    \"\"\"\n",
    "    This function prints and plots the confusion matrix.\n",
    "    Normalization can be applied by setting `normalize=True`.\n",
    "    \"\"\"\n",
    "    if normalize:\n",
    "        cm = cm.astype('float') / cm.sum(axis=1)[:, np.newaxis]\n",
    "        print(\"Normalized confusion matrix\")\n",
    "    else:\n",
    "        print('Confusion matrix, without normalization')\n",
    "\n",
    "    print(cm)\n",
    "\n",
    "    plt.imshow(cm, interpolation='nearest', cmap=cmap)\n",
    "    plt.title(title)\n",
    "    plt.colorbar()\n",
    "    tick_marks = np.arange(len(classes))\n",
    "    plt.xticks(tick_marks, classes, rotation=45)\n",
    "    plt.yticks(tick_marks, classes)\n",
    "\n",
    "    fmt = '.2f' if normalize else 'd'\n",
    "    thresh = cm.max() / 2.\n",
    "    for i, j in itertools.product(range(cm.shape[0]), range(cm.shape[1])):\n",
    "        plt.text(j, i, format(cm[i, j], fmt),\n",
    "                 horizontalalignment=\"center\",\n",
    "                 color=\"white\" if cm[i, j] > thresh else \"black\")\n",
    "\n",
    "    plt.tight_layout()\n",
    "    plt.ylabel('True label')\n",
    "    plt.xlabel('Predicted label')\n",
    "print(confusion_matrix(y_testset, predTree, labels=[1,0]))"
   ]
  },
  {
   "cell_type": "code",
   "execution_count": 29,
   "metadata": {},
   "outputs": [
    {
     "name": "stdout",
     "output_type": "stream",
     "text": [
      "Confusion matrix, without normalization\n",
      "[[80  3]\n",
      " [24 16]]\n"
     ]
    },
    {
     "data": {
      "image/png": "[encoded data removed]",
      "text/plain": [
       "<Figure size 432x288 with 2 Axes>"
      ]
     },
     "metadata": {
      "needs_background": "light"
     },
     "output_type": "display_data"
    }
   ],
   "source": [
    "# Compute confusion matrix\n",
    "cnf_matrix = confusion_matrix(y_testset, predTree, labels=[1,0])\n",
    "np.set_printoptions(precision=2)\n",
    "\n",
    "\n",
    "# Plot non-normalized confusion matrix\n",
    "plt.figure()\n",
    "plot_confusion_matrix(cnf_matrix, classes=['churn=1','churn=0'],normalize= False,  title='Confusion matrix')"
   ]
  },
  {
   "cell_type": "code",
   "execution_count": 30,
   "metadata": {},
   "outputs": [
    {
     "name": "stdout",
     "output_type": "stream",
     "text": [
      "              precision    recall  f1-score   support\n",
      "\n",
      "           0       0.84      0.40      0.54        40\n",
      "           1       0.77      0.96      0.86        83\n",
      "\n",
      "    accuracy                           0.78       123\n",
      "   macro avg       0.81      0.68      0.70       123\n",
      "weighted avg       0.79      0.78      0.75       123\n",
      "\n"
     ]
    }
   ],
   "source": [
    "print (classification_report(y_testset, predTree))"
   ]
  },
  {
   "cell_type": "code",
   "execution_count": null,
   "metadata": {},
   "outputs": [],
   "source": []
  }
 ],
 "metadata": {
  "kernelspec": {
   "display_name": "Python 3",
   "language": "python",
   "name": "python3"
  },
  "language_info": {
   "codemirror_mode": {
    "name": "ipython",
    "version": 3
   },
   "file_extension": ".py",
   "mimetype": "text/x-python",
   "name": "python",
   "nbconvert_exporter": "python",
   "pygments_lexer": "ipython3",
   "version": "3.7.4"
  }
 },
 "nbformat": 4,
 "nbformat_minor": 2
}
